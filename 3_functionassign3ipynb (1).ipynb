{
  "nbformat": 4,
  "nbformat_minor": 0,
  "metadata": {
    "colab": {
      "provenance": []
    },
    "kernelspec": {
      "name": "python3",
      "display_name": "Python 3"
    },
    "language_info": {
      "name": "python"
    }
  },
  "cells": [
    {
      "cell_type": "markdown",
      "source": [
        "1.In Python, the terms \"function\" and \"method\" refer to two different concepts, although they are related. Here are the key differences:\n",
        "\n",
        "1.Definition:\n",
        "\n",
        "Function: A function is a standalone block of code that performs a specific task. It can take inputs (arguments) and return an output. Functions are defined using the def keyword.\n",
        "\n",
        "Method: A method is a function that is associated with an object. It is defined within a class and is called on an instance of that class. Methods can access and modify the object's attributes.\n",
        "\n",
        "2.Context:\n",
        "\n",
        "Function: Functions can exist independently and are not tied to any object. They can be defined at the module level and can be called from anywhere in the code.\n",
        "Method: Methods are always associated with an object (an instance of a class) and are called on that object. They have access to the instance's data and can modify the instance's state.\n",
        "\n",
        "3.Syntax:\n",
        "\n",
        "Function: Defined using the def keyword, followed by the function name and parentheses.\n",
        "Method: Defined within a class and typically takes self as the first parameter, which refers to the instance of the class.4.Calling:\n",
        "\n",
        "Function: Called by its name, followed by parentheses.\n",
        "Method: Called on an instance of the class.\n",
        "\n"
      ],
      "metadata": {
        "id": "XgTLtO5J7cs1"
      }
    },
    {
      "cell_type": "markdown",
      "source": [
        "2. Explain the concept of function arguments and parameters in Python.\n",
        "\n",
        "In Python, function arguments and parameters are essential concepts that allow functions to accept input values and operate on them. Here’s a detailed explanation of both:\n",
        "\n",
        "Parameters\n",
        "Definition: Parameters are the variables that are defined in the function signature (the function definition). They act as placeholders for the values that will be passed to the function when it is called.\n",
        "\n",
        "Arguments\n",
        "Definition: Arguments are the actual values that you pass to the function when you call it. These values are assigned to the corresponding parameters in the function.\n",
        "Types of Arguments\n",
        "Python supports several types of arguments that can be passed to functions:\n",
        "\n",
        "Positional Arguments:\n",
        "\n",
        "These are the most common type of arguments. The values are assigned to parameters based on their position in the function call.\n",
        "\n",
        "Keyword Arguments:\n",
        "\n",
        "These allow you to specify the parameter names when calling the function, making the code more readable and allowing you to pass arguments in any order.\n",
        "Default Arguments:\n",
        "\n",
        "You can provide default values for parameters. If an argument is not provided for a parameter with a default value, the default value is used.\n",
        "Variable-Length Arguments:\n",
        "\n",
        "Sometimes, you may want to pass a variable number of arguments to a function. This can be done using *args for non-keyword arguments and **kwargs for keyword arguments."
      ],
      "metadata": {
        "id": "IJcrmRaZ7-pm"
      }
    },
    {
      "cell_type": "markdown",
      "source": [
        "3. What are the different ways to define and call a function in Python?\n",
        "\n",
        "In Python, functions can be defined and called in several ways, each serving different purposes and providing flexibility in how you structure your code. Here are the different ways to define and call functions:\n",
        "\n",
        "1. Basic Function Definition and Call\n",
        "Definition: A simple function is defined using the def keyword, followed by the function name and parentheses containing any parameters.\n",
        "\n",
        "2. Function with Multiple Parameters\n",
        "You can define a function that takes multiple parameters.\n",
        "\n",
        "3. Function with Default Parameters\n",
        "You can provide default values for parameters, which will be used if no argument is passed for those parameters.\n",
        "\n",
        "4. Keyword Arguments\n",
        "When calling a function, you can specify arguments by their parameter names, allowing you to pass them in any order.\n",
        "\n",
        "5. Lambda Functions\n",
        "Python also supports anonymous functions, known as lambda functions, which are defined using the lambda keyword. These are typically used for short, throwaway functions."
      ],
      "metadata": {
        "id": "_vxjrU55-nWd"
      }
    },
    {
      "cell_type": "markdown",
      "source": [
        "4. What is the purpose of the `return` statement in a Python function?\n",
        "\n",
        "The return statement in a Python function serves several important purposes:\n",
        "\n",
        "1. Returning a Value\n",
        "The primary purpose of the return statement is to send a value back to the caller of the function. When a function is called, it can perform some operations and then use the return statement to provide a result.\n",
        "\n",
        "2. Exiting the Function\n",
        "The return statement also serves to exit the function. When a return statement is executed, the function terminates immediately, and control is returned to the point where the function was called. If no value is specified, None is returned by default.\n",
        "\n",
        "3. Returning Multiple Values\n",
        "Python allows a function to return multiple values as a tuple. This can be useful when you want to return more than one piece of information from a function.\n",
        "\n",
        "4. Using return in Recursive Functions\n",
        "In recursive functions, the return statement is crucial for returning the result of the recursive call. It allows the function to build up a result through successive calls."
      ],
      "metadata": {
        "id": "fub6GyUv_QGZ"
      }
    },
    {
      "cell_type": "markdown",
      "source": [
        "5. What are iterators in Python and how do they differ from iterables?\n",
        "\n",
        "In Python, iterators and iterables are closely related concepts that are fundamental to the way Python handles looping and data traversal. Here’s a detailed explanation of both, along with their differences:\n",
        "\n",
        "Iterables\n",
        "Definition: An iterable is any Python object that can return its elements one at a time. This includes data structures like lists, tuples, dictionaries, sets, and strings. An iterable implements the __iter__() method, which returns an iterator.\n",
        "\n",
        "Iterators\n",
        "Definition: An iterator is an object that represents a stream of data. It is an object that implements two methods: __iter__() and __next__(). The __iter__() method returns the iterator object itself, and the __next__() method returns the next value from the iterator. When there are no more items to return, __next__() raises a StopIteration exception.\n",
        "\n",
        "Key Differences\n",
        "Definition:\n",
        "\n",
        "Iterable: An object that can be iterated over (e.g., lists, tuples, strings). It can return an iterator using the iter() function.\n",
        "Iterator: An object that keeps track of the current position during iteration and can return the next item using the next() function.\n",
        "Methods:\n",
        "\n",
        "Iterable: Implements the __iter__() method, which returns an iterator.\n",
        "Iterator: Implements both __iter__() (which returns the iterator itself) and __next__() (which returns the next item).\n",
        "State:\n",
        "\n",
        "Iterable: Does not maintain any state about the iteration. You can create multiple iterators from the same iterable.\n",
        "Iterator: Maintains state (the current position in the iteration). Once an iterator is exhausted (i.e., all items have been iterated over), it cannot be reused or reset.\n",
        "Usage:\n",
        "\n",
        "Iterable: Used in contexts where you want to loop over a collection of items (e.g., in a for loop).\n",
        "Iterator: Used when you need to manually control the iteration process, such as when you want to fetch items one at a time or when implementing custom iteration logic.\n"
      ],
      "metadata": {
        "id": "-upopwN9_m9l"
      }
    },
    {
      "cell_type": "markdown",
      "source": [
        "6. Explain the concept of generators in Python and how they are defined.\n",
        "\n",
        "Generators in Python are a special type of iterable that allow you to iterate over a sequence of values without storing the entire sequence in memory at once. They are defined using functions but use the yield statement to produce a series of values lazily, meaning that values are generated on-the-fly as you iterate over them.\n",
        "\n",
        "Key Concepts of Generators\n",
        "Lazy Evaluation:\n",
        "\n",
        "Generators compute their values only when requested, which makes them memory efficient. This is particularly useful for large datasets or streams of data.\n",
        "State Retention:\n",
        "\n",
        "When a generator function is called, it does not execute its body immediately. Instead, it returns a generator object that can be iterated over. Each time the generator's __next__() method is called (implicitly through a loop or explicitly), the function resumes execution from where it last yielded a value, retaining its state.\n",
        "Yield Statement:\n",
        "\n",
        "The yield statement is used to produce a value from the generator function. When the function encounters a yield, it outputs the value and pauses its execution, saving its state. The next time the generator is called, it resumes from the point after the yield.\n",
        "Defining a Generator\n",
        "A generator is defined like a regular function but uses the yield statement instead of return. Here’s a simple example:\n"
      ],
      "metadata": {
        "id": "5XAyrPEJ_6NV"
      }
    },
    {
      "cell_type": "code",
      "source": [
        "def count_up_to(n):\n",
        "    count = 1\n",
        "    while count <= n:\n",
        "        yield count  # Yield the current count\n",
        "        count += 1   # Increment the count\n",
        " #To use a generator, you can create an instance of it and iterate over it using a loop or the next() function:\n",
        "# Create a generator instance\n",
        "counter = count_up_to(5)\n",
        "\n",
        "# Iterate over the generator\n",
        "for number in counter:\n",
        "    print(number)\n"
      ],
      "metadata": {
        "colab": {
          "base_uri": "https://localhost:8080/"
        },
        "id": "W2uTZmF5QEpn",
        "outputId": "8ae2f44b-5a3c-42d4-f822-bdf0406de233"
      },
      "execution_count": null,
      "outputs": [
        {
          "output_type": "stream",
          "name": "stdout",
          "text": [
            "1\n",
            "2\n",
            "3\n",
            "4\n",
            "5\n"
          ]
        }
      ]
    },
    {
      "cell_type": "markdown",
      "source": [
        "7. What are the advantages of using generators over regular functions?\n",
        "\n",
        "Generators offer several advantages over regular functions, primarily through memory efficiency and lazy evaluation. They generate values on-the-fly, which reduces memory usage and allows for processing large datasets without loading everything into memory at once. Advantages of Using Generators Over Regular Functions\n",
        "\n",
        "Memory Efficiency:\n",
        "\n",
        "Generators produce values one at a time and only when requested, which means they do not require the entire dataset to be stored in memory. This is particularly beneficial when working with large datasets or streams of data.\n",
        "\n",
        "Lazy Evaluation:\n",
        "\n",
        "Values are computed only when needed, which can lead to performance improvements. This is especially useful for operations that may not require all values to be generated at once.\n",
        "\n",
        "State Management:\n",
        "\n",
        "Generators automatically maintain their state between yields. This allows for more straightforward implementation of iterative processes without needing to manage the state manually.\n",
        "\n",
        "Simplified Code:\n",
        "\n",
        "The use of yield in generators simplifies the code for creating iterators. There is no need to implement __iter__() and __next__() methods, making the code cleaner and easier to read.\n",
        "\n",
        "Infinite Sequences:\n",
        "\n",
        "Generators can represent infinite sequences efficiently, generating values as needed without precomputing or storing the entire sequence. This is useful for applications like streaming data or generating Fibonacci numbers.\n",
        "Exception Handling:\n",
        "\n",
        "Generators can handle exceptions gracefully within their execution context, allowing for more robust error management during iteration.\n"
      ],
      "metadata": {
        "id": "gdaXLzvLPeDS"
      }
    },
    {
      "cell_type": "markdown",
      "source": [
        "8. What is a lambda function in Python and when is it typically used?\n",
        "\n",
        "A lambda function in Python is a small, anonymous function defined using the lambda keyword. Unlike regular functions defined with the def keyword, lambda functions are typically used for short, throwaway functions that are not intended to be reused elsewhere in the code. They can take any number of arguments but can only have a single expression.\n",
        "Typical Use Cases for Lambda Functions\n",
        "\n",
        "Short Functions:\n",
        "\n",
        "Lambda functions are often used for small functions that are not reused elsewhere, making the code more concise.\n",
        "\n",
        "Higher-Order Functions:\n",
        "\n",
        "They are commonly used as arguments to higher-order functions (functions that take other functions as arguments), such as map(), filter(), and sorted().\n",
        "\n",
        "Event Handling:\n",
        "\n",
        "In GUI programming or event-driven programming, lambda functions can be used to define simple event handlers.\n",
        "\n",
        "Inline Functions:\n",
        "\n",
        "They can be used for defining simple functions inline, where defining a full function would be unnecessarily verbose."
      ],
      "metadata": {
        "id": "j0-m1BsyQXat"
      }
    },
    {
      "cell_type": "markdown",
      "source": [
        "9. Explain the purpose and usage of the `map()` function in Python.\n",
        "\n",
        "The map() function in Python is a built-in higher-order function that applies a specified function to each item in an iterable (like a list, tuple, or string) and returns a map object (which is an iterator). The primary purpose of map() is to transform data by applying a function to each element of the iterable, allowing for concise and readable code.\n",
        "\n",
        "Purpose of map()\n",
        "\n",
        "Transformation: map() is used to transform the elements of an iterable by applying a function to each element.\n",
        "\n",
        "Functional Programming: It promotes a functional programming style by allowing you to apply functions without the need for explicit loops.\n",
        "\n",
        "Efficiency: It can be more efficient than using a loop, especially for large datasets, as it avoids the overhead of function calls in a loop."
      ],
      "metadata": {
        "id": "jW1TGhqgQ05d"
      }
    },
    {
      "cell_type": "markdown",
      "source": [
        "10. What is the difference between `map()`, `reduce()`, and `filter()` functions in Python?\n",
        "\n",
        "In Python, map(), reduce(), and filter() are built-in higher-order functions that allow you to process iterables in different ways. Each function serves a distinct purpose and operates on the elements of an iterable (like a list or tuple) in a unique manner. Here’s a breakdown of the differences between them:\n",
        "\n",
        "1. map()\n",
        "\n",
        "Purpose: The map() function applies a specified function to each item in an iterable and returns a map object (an iterator) containing the results.\n",
        "Usage: It is used for transforming data by applying a function to each element of the iterable.\n",
        "Return Type: Returns a map object, which can be converted to a list or another iterable type.\n",
        "\n",
        "2. filter()\n",
        "\n",
        "Purpose: The filter() function constructs an iterator from elements of an iterable for which a specified function returns True.\n",
        "Usage: It is used for filtering data by applying a function that returns a boolean value (True or False) to each element of the iterable.\n",
        "Return Type: Returns a filter object, which can be converted to a list or another iterable type.\n",
        "\n",
        "3. reduce()\n",
        "\n",
        "Purpose: The reduce() function applies a specified function cumulatively to the items of an iterable, reducing the iterable to a single value.\n",
        "Usage: It is used for aggregating or combining data by applying a function that takes two arguments and returns a single value.\n",
        "Return Type: Returns a single value (not an iterable).\n",
        "Note: reduce() is not a built-in function in Python 3; it is available in the functools module, so you need to import it.\n"
      ],
      "metadata": {
        "id": "D7zG34eORF0N"
      }
    },
    {
      "cell_type": "markdown",
      "source": [
        "11.11. Using pen & Paper write the internal mechanism for sum operation using  reduce function on this given\n",
        "list:[47,11,42,13]\n",
        "\n",
        "\n",
        "Initialization:\n",
        "\n",
        "Start with the first two elements of the list.\n",
        "The initial list is: [47, 11, 42, 13].\n",
        "\n",
        "Take the first two elements: 47 and 11.\n",
        "Apply the addition operation: [ 47 + 11 = 58 ]\n",
        "The intermediate result is now 58.\n",
        "Second Operation:\n",
        "\n",
        " [ 58 + 42 = 100 ]\n",
        "The intermediate result is now 100.\n",
        "\n",
        "Now take the intermediate result 100 and the next element 13.\n",
        "[ 100 + 13 = 113 ]\n",
        "The final result is now 113.\n",
        "Summary of Operations\n",
        "Start with the list: [47, 11, 42, 13]\n",
        "Step 1: ( 47 + 11 = 58 )\n",
        "Step 2: ( 58 + 42 = 100 )\n",
        "Step 3: ( 100 + 13 = 113 )"
      ],
      "metadata": {
        "id": "Ng83dsI_niR0"
      }
    },
    {
      "cell_type": "markdown",
      "source": [
        "#Practical Questions:\n"
      ],
      "metadata": {
        "id": "F0nxe0dnR1HH"
      }
    },
    {
      "cell_type": "code",
      "source": [
        "#1. Write a Python function that takes a list of numbers as input and returns the sum of all even numbers in\n",
        "#the list.\n",
        "\n",
        "def sum_of_even_numbers(numbers):\n",
        "    return sum(num for num in numbers if num % 2 == 0)\n",
        "\n",
        "input_list = [1, 2, 3, 4, 5, 6, 7, 8, 9, 10]\n",
        "result = sum_of_even_numbers(input_list)\n",
        "print(\"Sum of even numbers:\", result)\n",
        "\n"
      ],
      "metadata": {
        "colab": {
          "base_uri": "https://localhost:8080/"
        },
        "id": "qL00T277Sa_i",
        "outputId": "6cacaa00-ce6d-4096-b5d1-63bef73e7cd4"
      },
      "execution_count": null,
      "outputs": [
        {
          "output_type": "stream",
          "name": "stdout",
          "text": [
            "Sum of even numbers: 30\n"
          ]
        }
      ]
    },
    {
      "cell_type": "code",
      "source": [
        "#2. Create a Python function that accepts a string and returns the reverse of that string.\n",
        "def reverse_string(input_string):\n",
        "    return input_string[::-1]\n",
        "\n",
        "input_str = \"Hello, World!\"\n",
        "reversed_str = reverse_string(input_str)\n",
        "print(\"Reversed string:\", reversed_str)"
      ],
      "metadata": {
        "colab": {
          "base_uri": "https://localhost:8080/"
        },
        "id": "NqqWFbdXS1ET",
        "outputId": "70c68cb0-aca0-413e-ee37-6151f38c659c"
      },
      "execution_count": null,
      "outputs": [
        {
          "output_type": "stream",
          "name": "stdout",
          "text": [
            "Reversed string: !dlroW ,olleH\n"
          ]
        }
      ]
    },
    {
      "cell_type": "code",
      "source": [
        "#3. Implement a Python function that takes a list of integers and returns a new list containing the squares of\n",
        "#each number.\n",
        "def square_numbers(numbers):\n",
        "    return [num ** 2 for num in numbers]\n",
        "\n",
        "input_list = [1, 2, 3, 4, 5]\n",
        "squared_list = square_numbers(input_list)\n",
        "print(\"Squared numbers:\", squared_list)"
      ],
      "metadata": {
        "colab": {
          "base_uri": "https://localhost:8080/"
        },
        "id": "BhVnwhGhTDzw",
        "outputId": "cb5b03d3-863f-42bd-d71e-5573973bab2d"
      },
      "execution_count": null,
      "outputs": [
        {
          "output_type": "stream",
          "name": "stdout",
          "text": [
            "Squared numbers: [1, 4, 9, 16, 25]\n"
          ]
        }
      ]
    },
    {
      "cell_type": "code",
      "source": [
        "#4. Write a Python function that checks if a given number is prime or not from 1 to 200.\n",
        "def is_prime(n):\n",
        "    \"\"\"Check if a number is prime.\"\"\"\n",
        "    if n <= 1:\n",
        "        return False\n",
        "    for i in range(2, int(n**0.5) + 1):\n",
        "        if n % i == 0:\n",
        "            return False\n",
        "    return True\n",
        "\n",
        "def prime_numbers_in_range(start, end):\n",
        "    \"\"\"Return a list of prime numbers in the given range.\"\"\"\n",
        "    return [num for num in range(start, end + 1) if is_prime(num)]\n",
        "\n",
        "primes = prime_numbers_in_range(1, 200)\n",
        "print(\"Prime numbers from 1 to 200:\", primes)"
      ],
      "metadata": {
        "colab": {
          "base_uri": "https://localhost:8080/"
        },
        "id": "Bovbz5_8TWcH",
        "outputId": "028b387a-a6dd-497a-dd68-a1f03965168b"
      },
      "execution_count": null,
      "outputs": [
        {
          "output_type": "stream",
          "name": "stdout",
          "text": [
            "Prime numbers from 1 to 200: [2, 3, 5, 7, 11, 13, 17, 19, 23, 29, 31, 37, 41, 43, 47, 53, 59, 61, 67, 71, 73, 79, 83, 89, 97, 101, 103, 107, 109, 113, 127, 131, 137, 139, 149, 151, 157, 163, 167, 173, 179, 181, 191, 193, 197, 199]\n"
          ]
        }
      ]
    },
    {
      "cell_type": "code",
      "source": [
        "#5. Create an iterator class in Python that generates the Fibonacci sequence up to a specified number of\n",
        "#terms.\n",
        "\n",
        "class FibonacciIterator:\n",
        "    def __init__(self, terms):\n",
        "        self.terms = terms\n",
        "        self.current = 0\n",
        "        self.a, self.b = 0, 1\n",
        "\n",
        "    def __iter__(self):\n",
        "        return self\n",
        "\n",
        "    def __next__(self):\n",
        "        if self.current < self.terms:\n",
        "\n",
        "            fib_number = self.a\n",
        "            self.a, self.b = self.b, self.a + self.b\n",
        "            self.current += 1\n",
        "            return fib_number\n",
        "        else:\n",
        "            raise StopIteration\n",
        "\n",
        "fibonacci_sequence = FibonacciIterator(10)\n",
        "for number in fibonacci_sequence:\n",
        "    print(number)\n",
        "\n"
      ],
      "metadata": {
        "colab": {
          "base_uri": "https://localhost:8080/"
        },
        "id": "bqFTPj4ITwyR",
        "outputId": "0e61d8c3-28e6-48d3-e957-b84247ff3ff4"
      },
      "execution_count": null,
      "outputs": [
        {
          "output_type": "stream",
          "name": "stdout",
          "text": [
            "0\n",
            "1\n",
            "1\n",
            "2\n",
            "3\n",
            "5\n",
            "8\n",
            "13\n",
            "21\n",
            "34\n"
          ]
        }
      ]
    },
    {
      "cell_type": "code",
      "source": [
        "#6. Write a generator function in Python that yields the powers of 2 up to a given exponent.\n",
        "def powers_of_two(exponent):\n",
        "    \"\"\"Generator function that yields powers of 2 up to the given exponent.\"\"\"\n",
        "    for i in range(exponent + 1):\n",
        "        yield 2 ** i  # Yield 2 raised to the power of i\n",
        "\n",
        "exponent = 10\n",
        "for power in powers_of_two(exponent):\n",
        "    print(power)"
      ],
      "metadata": {
        "colab": {
          "base_uri": "https://localhost:8080/"
        },
        "id": "IUEKxQDcUZeY",
        "outputId": "6dc0166f-fac2-4076-9daa-75d11e2ca61d"
      },
      "execution_count": null,
      "outputs": [
        {
          "output_type": "stream",
          "name": "stdout",
          "text": [
            "1\n",
            "2\n",
            "4\n",
            "8\n",
            "16\n",
            "32\n",
            "64\n",
            "128\n",
            "256\n",
            "512\n",
            "1024\n"
          ]
        }
      ]
    },
    {
      "cell_type": "code",
      "source": [
        "#7. Implement a generator function that reads a file line by line and yields each line as a string.\n",
        "def read_file_line_by_line(file_path):\n",
        "    \"\"\"Generator function that reads a file line by line.\"\"\"\n",
        "    with open(file_path, 'r') as file:\n",
        "        for line in file:\n",
        "            yield line.strip()  # Yield each line, stripping any leading/trailing whitespace\n",
        "\n",
        "file_path = 'example.txt'  # Replace with your file path\n",
        "for line in read_file_line_by_line(file_path):\n",
        "    print(line)"
      ],
      "metadata": {
        "id": "zq29tjqjad8m"
      },
      "execution_count": null,
      "outputs": []
    },
    {
      "cell_type": "code",
      "source": [
        "#8. Use a lambda function in Python to sort a list of tuples based on the second element of each tuple.\n",
        "data = [(1, 'banana'), (2, 'apple'), (3, 'cherry'), (4, 'date')]\n",
        "\n",
        "sorted_data = sorted(data, key=lambda x: x[1])\n",
        "\n",
        "data.sort(key=lambda x: x[1])\n",
        "\n",
        "print(\"Sorted using sorted():\", sorted_data)\n",
        "print(\"Sorted using sort():\", data)"
      ],
      "metadata": {
        "colab": {
          "base_uri": "https://localhost:8080/"
        },
        "id": "7Ye0K5TBafnI",
        "outputId": "e30ef81b-1f42-44d4-8d50-e56a285c049e"
      },
      "execution_count": null,
      "outputs": [
        {
          "output_type": "stream",
          "name": "stdout",
          "text": [
            "Sorted using sorted(): [(2, 'apple'), (1, 'banana'), (3, 'cherry'), (4, 'date')]\n",
            "Sorted using sort(): [(2, 'apple'), (1, 'banana'), (3, 'cherry'), (4, 'date')]\n"
          ]
        }
      ]
    },
    {
      "cell_type": "code",
      "source": [
        "#9. Write a Python program that uses `map()` to convert a list of temperatures from Celsius to Fahrenheit.\n",
        "celsius_temps = [0, 20, 37, 100, -40]\n",
        "\n",
        "def celsius_to_fahrenheit(celsius):\n",
        "    return celsius * (9/5) + 32\n",
        "\n",
        "fahrenheit_temps = list(map(celsius_to_fahrenheit, celsius_temps))\n",
        "\n",
        "print(\"Celsius temperatures:\", celsius_temps)\n",
        "print(\"Fahrenheit temperatures:\", fahrenheit_temps)"
      ],
      "metadata": {
        "colab": {
          "base_uri": "https://localhost:8080/"
        },
        "id": "Js00OYwTaz3L",
        "outputId": "17204572-7105-459b-dab7-1d035c03373f"
      },
      "execution_count": null,
      "outputs": [
        {
          "output_type": "stream",
          "name": "stdout",
          "text": [
            "Celsius temperatures: [0, 20, 37, 100, -40]\n",
            "Fahrenheit temperatures: [32.0, 68.0, 98.60000000000001, 212.0, -40.0]\n"
          ]
        }
      ]
    },
    {
      "cell_type": "code",
      "source": [
        "#10. Create a Python program that uses `filter()` to remove all the vowels from a given string.\n",
        "def is_not_vowel(char):\n",
        "    return char.lower() not in 'aeiou'\n",
        "\n",
        "input_string = \"Hello, World!\"\n",
        "\n",
        "filtered_string = ''.join(filter(is_not_vowel, input_string))\n",
        "\n",
        "print(\"Original string:\", input_string)\n",
        "print(\"String without vowels:\", filtered_string)"
      ],
      "metadata": {
        "colab": {
          "base_uri": "https://localhost:8080/"
        },
        "id": "G7kc4W7IbBLS",
        "outputId": "55dc7b39-1de6-45cf-c73b-63e5378f53a4"
      },
      "execution_count": null,
      "outputs": [
        {
          "output_type": "stream",
          "name": "stdout",
          "text": [
            "Original string: Hello, World!\n",
            "String without vowels: Hll, Wrld!\n"
          ]
        }
      ]
    },
    {
      "cell_type": "markdown",
      "source": [
        "11.Imagine an accounting routine used in a book shop. It works on a list with sublists, which look like this:\n",
        "\n",
        "\n",
        "\n",
        "\n",
        "\n",
        "\n",
        "\n",
        "Write a Python program, which returns a list with 2-tuples. Each tuple consists of the order number and the\n",
        "product of the price per item and the quantity. The product should be increased by 10,- € if the value of the\n",
        "order is smaller than 100,00 €.\n",
        "\n",
        "Write a Python program using lambda and map"
      ],
      "metadata": {
        "id": "Uk3hWoBocbl1"
      }
    },
    {
      "cell_type": "code",
      "source": [
        "orders = [\n",
        "    [34587, \"Learning Python, Mark Lutz\", 4, 40.95],\n",
        "    [98762, \"Programming Python, Mark Lutz\", 5, 56.80],\n",
        "    [77226, \"Head First Python, Paul Barry\", 3, 32.95],\n",
        "    [88112, \"Einführung in Python3, Bernd Klein\", 3, 24.99]\n",
        "]\n",
        "\n",
        "result = list(map(lambda order: (order[0], (order[3] * order[2]) + 10 if (order[3] * order[2]) < 100 else (order[3] * order[2])), orders))\n",
        "\n",
        "print(result)"
      ],
      "metadata": {
        "colab": {
          "base_uri": "https://localhost:8080/"
        },
        "id": "spJ8cPf4eTia",
        "outputId": "3b611834-4af8-4be7-ec34-0ca4ad0d04f6"
      },
      "execution_count": null,
      "outputs": [
        {
          "output_type": "stream",
          "name": "stdout",
          "text": [
            "[(34587, 163.8), (98762, 284.0), (77226, 108.85000000000001), (88112, 84.97)]\n"
          ]
        }
      ]
    }
  ]
}